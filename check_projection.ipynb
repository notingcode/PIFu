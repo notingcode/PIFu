{
 "cells": [
  {
   "cell_type": "code",
   "execution_count": 1,
   "metadata": {},
   "outputs": [
    {
     "name": "stdout",
     "output_type": "stream",
     "text": [
      "Jupyter environment detected. Enabling Open3D WebVisualizer.\n",
      "[Open3D INFO] WebRTC GUI backend enabled.\n",
      "[Open3D INFO] WebRTCWindowSystem: HTTP handshake server disabled.\n"
     ]
    }
   ],
   "source": [
    "import lib.data.TrainDataset as TrainDataset\n",
    "import torchvision\n",
    "from lib.train_util import *\n",
    "import open3d as o3d\n",
    "import numpy as np\n",
    "from lib.geometry import index, orthogonal, perspective\n",
    "from lib.model.DepthNormalizer import DepthNormalizer"
   ]
  },
  {
   "cell_type": "code",
   "execution_count": 2,
   "metadata": {},
   "outputs": [],
   "source": [
    "class opt():\n",
    "    dataroot = \"/media/notingcode/Data/HI4D/train_test\"\n",
    "    projection_mode = \"orthogonal\"\n",
    "    num_sample_inout = 5000\n",
    "    num_sample_color = 0\n",
    "    aug_bri = 0.0\n",
    "    aug_con = 0.0\n",
    "    aug_sat = 0.0\n",
    "    aug_blur = 0.0\n",
    "    aug_hue = 0.0\n",
    "    aug_alstd = 0.0\n",
    "    loadSize = 512\n",
    "    yaw_list = [4, 16, 28, 40, 52, 64, 76, 88]\n",
    "    num_views = 8\n",
    "    random_multiview = True\n",
    "    random_flip = True\n",
    "    random_scale = True\n",
    "    random_trans = True\n",
    "    sigma = 0.005\n",
    "    z_size = 200\n",
    "    b_min = [-2, -1, -2]\n",
    "    b_max = [2, 3, 2]\n",
    "    num_stack = 4\n",
    "    norm = 'group'\n",
    "    hg_down = 'ave_pool'\n",
    "    num_hourglass = 2\n",
    "    skip_hourglass = True\n",
    "    hourglass_dim = 256\n",
    "    mlp_dim = [257, 1024, 512, 256, 128, 1]\n",
    "    no_residual = True"
   ]
  },
  {
   "cell_type": "code",
   "execution_count": 3,
   "metadata": {},
   "outputs": [
    {
     "name": "stderr",
     "output_type": "stream",
     "text": [
      "/media/notingcode/Projects/PIFu/lib/data/TrainDataset.py:112: UserWarning: loadtxt: input contained no data: \"/media/notingcode/Data/HI4D/train_test/val.txt\"\n",
      "  var_subjects = np.loadtxt(os.path.join(\n"
     ]
    }
   ],
   "source": [
    "train_dataset = TrainDataset(opt, phase='train')"
   ]
  },
  {
   "cell_type": "code",
   "execution_count": 4,
   "metadata": {},
   "outputs": [],
   "source": [
    "sample = train_dataset.get_item(1)"
   ]
  },
  {
   "cell_type": "code",
   "execution_count": 5,
   "metadata": {},
   "outputs": [
    {
     "data": {
      "text/plain": [
       "'00011'"
      ]
     },
     "execution_count": 5,
     "metadata": {},
     "output_type": "execute_result"
    }
   ],
   "source": [
    "sample['name']"
   ]
  },
  {
   "cell_type": "code",
   "execution_count": 6,
   "metadata": {},
   "outputs": [],
   "source": [
    "image_tensor, calib_tensor = reshape_multiview_tensors(sample['img'][None, :], sample['calib'][None, :])\n",
    "sample_tensor = reshape_sample_tensor(sample['samples'][None,:], opt.num_views)\n",
    "label_tensor = sample['labels'].to(device='cuda:0')"
   ]
  },
  {
   "cell_type": "code",
   "execution_count": 7,
   "metadata": {},
   "outputs": [
    {
     "data": {
      "text/plain": [
       "torch.Size([8, 3, 5000])"
      ]
     },
     "execution_count": 7,
     "metadata": {},
     "output_type": "execute_result"
    }
   ],
   "source": [
    "sample_tensor.shape"
   ]
  },
  {
   "cell_type": "code",
   "execution_count": 8,
   "metadata": {},
   "outputs": [],
   "source": [
    "projected_points = perspective(sample_tensor, calib_tensor)"
   ]
  },
  {
   "cell_type": "code",
   "execution_count": 9,
   "metadata": {},
   "outputs": [],
   "source": [
    "pcds = []\n",
    "\n",
    "for idx in range(8):\n",
    "    pcd = o3d.geometry.PointCloud()\n",
    "    pcd.points = o3d.utility.Vector3dVector(projected_points[idx].T)\n",
    "    pcds.append(pcd)\n",
    "    \n",
    "coordinate_frame = o3d.geometry.TriangleMesh.create_coordinate_frame(origin=pcds[0].get_center())"
   ]
  },
  {
   "cell_type": "code",
   "execution_count": 10,
   "metadata": {},
   "outputs": [],
   "source": [
    "o3d.visualization.draw_geometries(pcds+[coordinate_frame])"
   ]
  },
  {
   "cell_type": "code",
   "execution_count": null,
   "metadata": {},
   "outputs": [],
   "source": []
  }
 ],
 "metadata": {
  "kernelspec": {
   "display_name": "3d",
   "language": "python",
   "name": "python3"
  },
  "language_info": {
   "codemirror_mode": {
    "name": "ipython",
    "version": 3
   },
   "file_extension": ".py",
   "mimetype": "text/x-python",
   "name": "python",
   "nbconvert_exporter": "python",
   "pygments_lexer": "ipython3",
   "version": "3.8.18"
  }
 },
 "nbformat": 4,
 "nbformat_minor": 2
}
